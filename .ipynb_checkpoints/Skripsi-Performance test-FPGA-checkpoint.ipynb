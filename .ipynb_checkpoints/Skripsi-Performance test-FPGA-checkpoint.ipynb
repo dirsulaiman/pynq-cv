{
 "cells": [
  {
   "cell_type": "code",
   "execution_count": 1,
   "metadata": {},
   "outputs": [
    {
     "data": {
      "text/plain": [
       "2301"
      ]
     },
     "execution_count": 1,
     "metadata": {},
     "output_type": "execute_result"
    }
   ],
   "source": [
    "import os\n",
    "os.getpid()"
   ]
  },
  {
   "cell_type": "code",
   "execution_count": 2,
   "metadata": {},
   "outputs": [
    {
     "name": "stderr",
     "output_type": "stream",
     "text": [
      "/usr/local/lib/python3.6/dist-packages/setuptools/distutils_patch.py:26: UserWarning: Distutils was imported before Setuptools. This usage is discouraged and may exhibit undesirable behaviors or errors. Please use Setuptools' objects directly or at least import Setuptools first.\n",
      "  \"Distutils was imported before Setuptools. This usage is discouraged \"\n"
     ]
    },
    {
     "data": {
      "application/javascript": [
       "\n",
       "try {\n",
       "require(['notebook/js/codecell'], function(codecell) {\n",
       "  codecell.CodeCell.options_default.highlight_modes[\n",
       "      'magic_text/x-csrc'] = {'reg':[/^%%microblaze/]};\n",
       "  Jupyter.notebook.events.one('kernel_ready.Kernel', function(){\n",
       "      Jupyter.notebook.get_cells().map(function(cell){\n",
       "          if (cell.cell_type == 'code'){ cell.auto_highlight(); } }) ;\n",
       "  });\n",
       "});\n",
       "} catch (e) {};\n"
      ]
     },
     "metadata": {},
     "output_type": "display_data"
    }
   ],
   "source": [
    "# Load filter2D + dilate overlay\n",
    "from pynq import Overlay\n",
    "bareHDMI = Overlay(\"/usr/local/lib/python3.6/dist-packages/pynq_cv/overlays/xv2Filter2DDilate.bit\")\n",
    "bareHDMI.download()\n",
    "import pynq_cv.overlays.xv2Filter2DDilate as xv2\n",
    "\n",
    "# Load xlnk memory mangager\n",
    "from pynq import Xlnk\n",
    "Xlnk.set_allocator_library(\"/usr/local/lib/python3.6/dist-packages/pynq_cv/overlays/xv2Filter2DDilate.so\")\n",
    "mem_manager = Xlnk()\n",
    "\n",
    "hdmi_in = bareHDMI.video.hdmi_in\n",
    "hdmi_out = bareHDMI.video.hdmi_out"
   ]
  },
  {
   "cell_type": "code",
   "execution_count": 6,
   "metadata": {},
   "outputs": [
    {
     "data": {
      "text/plain": [
       "<contextlib._GeneratorContextManager at 0xaff06f50>"
      ]
     },
     "execution_count": 6,
     "metadata": {},
     "output_type": "execute_result"
    }
   ],
   "source": [
    "from pynq.lib.video import *\n",
    "hdmi_in.configure(PIXEL_GRAY)\n",
    "hdmi_out.configure(hdmi_in.mode)\n",
    "\n",
    "hdmi_in.cacheable_frames = False\n",
    "hdmi_out.cacheable_frames = False\n",
    "\n",
    "hdmi_in.start()\n",
    "hdmi_out.start()"
   ]
  },
  {
   "cell_type": "code",
   "execution_count": 7,
   "metadata": {},
   "outputs": [
    {
     "name": "stdout",
     "output_type": "stream",
     "text": [
      "My mode: VideoMode: width=1280 height=720 bpp=8\n"
     ]
    }
   ],
   "source": [
    "mymode = hdmi_in.mode\n",
    "print(\"My mode: \"+str(mymode))\n",
    "\n",
    "height = hdmi_in.mode.height\n",
    "width = hdmi_in.mode.width\n",
    "bpp = hdmi_in.mode.bits_per_pixel"
   ]
  },
  {
   "cell_type": "code",
   "execution_count": 8,
   "metadata": {},
   "outputs": [],
   "source": [
    "hdmi_in.tie(hdmi_out)"
   ]
  },
  {
   "cell_type": "code",
   "execution_count": 9,
   "metadata": {},
   "outputs": [],
   "source": [
    "import numpy as np\n",
    "import cv2\n",
    "import time\n",
    "\n",
    "dstSW = np.ones((height,width),np.uint8);\n",
    "xFdst  = mem_manager.cma_array((height,width),np.uint8) #allocated physically contiguous numpy array"
   ]
  },
  {
   "cell_type": "code",
   "execution_count": 10,
   "metadata": {},
   "outputs": [],
   "source": [
    "kernel = {\n",
    "        'average blur': np.array([\n",
    "            [1.0, 1.0, 1.0],\n",
    "            [1.0, 1.0, 1.0],\n",
    "            [1.0, 1.0, 1.0]],np.float32)/9,\n",
    "        'gaussian blur': np.array([\n",
    "            [1.0, 2.0, 1.0],\n",
    "            [2.0, 4.0, 2.0],\n",
    "            [1.0, 2.0, 1.0]],np.float32)/16,\n",
    "        'sobel ver': np.array([\n",
    "            [1.0,0.0,-1.0],\n",
    "            [2.0,0.0,-2.0],\n",
    "            [1.0,0.0,-1.0]],np.float32),\n",
    "        'sobel hor': np.array([\n",
    "            [1.0,2.0,1.0],\n",
    "            [0.0,0.0,0.0],\n",
    "            [-1.0,-2.0,-1.0]],np.float32),\n",
    "        'laplacian': np.array([\n",
    "            [0.0, 1.0, 0],\n",
    "            [1.0, -4, 1.0],\n",
    "            [0, 1.0, 0.0]],np.float32),\n",
    "        'sharpen': np.array([\n",
    "            [-1,-1, -1],\n",
    "            [-1, 9, -1],\n",
    "            [-1, -1, -1]],np.float32),\n",
    "}\n"
   ]
  },
  {
   "cell_type": "markdown",
   "metadata": {},
   "source": [
    "## Hardware (FPGA)"
   ]
  },
  {
   "cell_type": "code",
   "execution_count": 11,
   "metadata": {},
   "outputs": [
    {
     "name": "stdout",
     "output_type": "stream",
     "text": [
      "Start HW loop =  3.345576047897339\n",
      "PL frames per second:  59.780437549969314\n"
     ]
    }
   ],
   "source": [
    "kernel_name = 'average blur'\n",
    "numberOfIterations=200\n",
    "\n",
    "startPL=time.time()\n",
    "for i in range(numberOfIterations):\n",
    "    inframe = hdmi_in.readframe()\n",
    "    outframe = hdmi_out.newframe()\n",
    "    xv2.filter2D(inframe, -1, kernel.get(kernel_name), dst=outframe,borderType=cv2.BORDER_CONSTANT) #filter2D offloaded to PL, working on physically continuous numpy arrays\n",
    "    hdmi_out.writeframe(outframe)\n",
    "stopPL=time.time()\n",
    "print(\"Start HW loop = \", (stopPL - startPL))\n",
    "print(\"PL frames per second: \", ((numberOfIterations) / (stopPL - startPL)))"
   ]
  },
  {
   "cell_type": "code",
   "execution_count": 12,
   "metadata": {},
   "outputs": [],
   "source": [
    "hdmi_out.close()\n",
    "hdmi_in.close()"
   ]
  },
  {
   "cell_type": "code",
   "execution_count": null,
   "metadata": {},
   "outputs": [],
   "source": []
  }
 ],
 "metadata": {
  "kernelspec": {
   "display_name": "Python 3",
   "language": "python",
   "name": "python3"
  },
  "language_info": {
   "codemirror_mode": {
    "name": "ipython",
    "version": 3
   },
   "file_extension": ".py",
   "mimetype": "text/x-python",
   "name": "python",
   "nbconvert_exporter": "python",
   "pygments_lexer": "ipython3",
   "version": "3.6.5"
  }
 },
 "nbformat": 4,
 "nbformat_minor": 2
}
