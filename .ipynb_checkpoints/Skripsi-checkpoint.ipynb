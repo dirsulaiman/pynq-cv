{
 "cells": [
  {
   "cell_type": "code",
   "execution_count": 6,
   "metadata": {},
   "outputs": [],
   "source": [
    "# Load filter2D + dilate overlay\n",
    "from pynq import Overlay\n",
    "bareHDMI = Overlay(\"/usr/local/lib/python3.6/dist-packages/pynq_cv/overlays/xv2Filter2DDilate.bit\")\n",
    "bareHDMI.download()\n",
    "import pynq_cv.overlays.xv2Filter2DDilate as xv2\n",
    "\n",
    "# Load xlnk memory mangager\n",
    "from pynq import Xlnk\n",
    "Xlnk.set_allocator_library(\"/usr/local/lib/python3.6/dist-packages/pynq_cv/overlays/xv2Filter2DDilate.so\")\n",
    "mem_manager = Xlnk()\n",
    "\n",
    "hdmi_in = bareHDMI.video.hdmi_in\n",
    "hdmi_out = bareHDMI.video.hdmi_out"
   ]
  },
  {
   "cell_type": "code",
   "execution_count": null,
   "metadata": {},
   "outputs": [],
   "source": []
  },
  {
   "cell_type": "code",
   "execution_count": 7,
   "metadata": {},
   "outputs": [
    {
     "data": {
      "text/plain": [
       "<contextlib._GeneratorContextManager at 0xaea575f0>"
      ]
     },
     "execution_count": 7,
     "metadata": {},
     "output_type": "execute_result"
    }
   ],
   "source": [
    "from pynq.lib.video import *\n",
    "hdmi_in.configure(PIXEL_GRAY)\n",
    "hdmi_out.configure(hdmi_in.mode)\n",
    "\n",
    "hdmi_in.cacheable_frames = False\n",
    "hdmi_out.cacheable_frames = False\n",
    "\n",
    "hdmi_in.start()\n",
    "hdmi_out.start()"
   ]
  },
  {
   "cell_type": "code",
   "execution_count": 8,
   "metadata": {},
   "outputs": [
    {
     "name": "stdout",
     "output_type": "stream",
     "text": [
      "My mode: VideoMode: width=1280 height=720 bpp=8\n"
     ]
    }
   ],
   "source": [
    "mymode = hdmi_in.mode\n",
    "print(\"My mode: \"+str(mymode))\n",
    "\n",
    "height = hdmi_in.mode.height\n",
    "width = hdmi_in.mode.width\n",
    "bpp = hdmi_in.mode.bits_per_pixel"
   ]
  },
  {
   "cell_type": "code",
   "execution_count": 9,
   "metadata": {},
   "outputs": [],
   "source": [
    "hdmi_in.tie(hdmi_out)"
   ]
  },
  {
   "cell_type": "code",
   "execution_count": 10,
   "metadata": {},
   "outputs": [
    {
     "name": "stdout",
     "output_type": "stream",
     "text": [
      "Frames per second:  60.60070392281893\n"
     ]
    }
   ],
   "source": [
    "import time\n",
    "\n",
    "numframes = 60\n",
    "start = time.time()\n",
    "\n",
    "for _ in range(numframes):\n",
    "    f = hdmi_in.readframe()\n",
    "    hdmi_out.writeframe(f)\n",
    "    \n",
    "end = time.time()\n",
    "print(\"Frames per second:  \" + str(numframes / (end - start)))"
   ]
  },
  {
   "cell_type": "code",
   "execution_count": null,
   "metadata": {},
   "outputs": [],
   "source": [
    "# import PIL.Image\n",
    "# image = PIL.Image.fromarray(hdmi_in.readframe())\n",
    "# image"
   ]
  },
  {
   "cell_type": "code",
   "execution_count": null,
   "metadata": {},
   "outputs": [],
   "source": []
  },
  {
   "cell_type": "code",
   "execution_count": null,
   "metadata": {},
   "outputs": [],
   "source": []
  },
  {
   "cell_type": "code",
   "execution_count": null,
   "metadata": {
    "scrolled": true
   },
   "outputs": [],
   "source": [
    "# from pynq import Overlay\n",
    "# bs = Overlay(\"/usr/local/lib/python3.6/dist-packages/pynq_cv/overlays/xv2Filter2DDilate.bit\")\n",
    "# bs.download()"
   ]
  },
  {
   "cell_type": "code",
   "execution_count": 11,
   "metadata": {},
   "outputs": [],
   "source": [
    "# from pynq import Xlnk\n",
    "# Xlnk.set_allocator_library('/usr/local/lib/python3.6/dist-packages/pynq_cv/overlays/xv2Filter2DDilate.so')\n",
    "# mem_manager = Xlnk()\n",
    "\n",
    "# import pynq_cv.overlays.xv2Filter2DDilate as xv2\n",
    "import numpy as np\n",
    "import cv2\n",
    "import time\n",
    "\n",
    "\n",
    "dstSW = np.ones((height,width),np.uint8);\n",
    "\n",
    "# xFimgY  = mem_manager.cma_array((height,width),np.uint8) #allocated physically contiguous numpy array \n",
    "# xFimgY[:] = imgY[:] # copy source data\n",
    "\n",
    "xFdst  = mem_manager.cma_array((height,width),np.uint8) #allocated physically contiguous numpy array"
   ]
  },
  {
   "cell_type": "code",
   "execution_count": 37,
   "metadata": {},
   "outputs": [],
   "source": [
    "kernel = {\n",
    "        'average blur': np.array([\n",
    "            [1.0, 1.0, 1.0],\n",
    "            [1.0, 1.0, 1.0],\n",
    "            [1.0, 1.0, 1.0]],np.float32)/9,\n",
    "        'gaussian blur': np.array([\n",
    "            [1.0, 2.0, 1.0],\n",
    "            [2.0, 4.0, 2.0],\n",
    "            [1.0, 2.0, 1.0]],np.float32)/16,\n",
    "        'sobel ver': np.array([\n",
    "            [1.0,0.0,-1.0],\n",
    "            [2.0,0.0,-2.0],\n",
    "            [1.0,0.0,-1.0]],np.float32),\n",
    "        'sobel hor': np.array([\n",
    "            [1.0,2.0,1.0],\n",
    "            [0.0,0.0,0.0],\n",
    "            [-1.0,-2.0,-1.0]],np.float32),\n",
    "        'laplacian': np.array([\n",
    "            [0.0, 1.0, 0],\n",
    "            [1.0, -4, 1.0],\n",
    "            [0, 1.0, 0.0]],np.float32),\n",
    "        'sharpen': np.array([\n",
    "            [-1,-1, -1],\n",
    "            [-1, 9, -1],\n",
    "            [-1, -1, -1]],np.float32),\n",
    "}\n",
    "\n",
    "numberOfIterations=200\n",
    "kernel_name = 'laplacian'"
   ]
  },
  {
   "cell_type": "code",
   "execution_count": null,
   "metadata": {},
   "outputs": [],
   "source": [
    "# kernel.get(kernel_name)"
   ]
  },
  {
   "cell_type": "markdown",
   "metadata": {},
   "source": [
    "## Software"
   ]
  },
  {
   "cell_type": "code",
   "execution_count": 42,
   "metadata": {},
   "outputs": [
    {
     "name": "stdout",
     "output_type": "stream",
     "text": [
      "Start SW loop =  24.78199815750122\n",
      "SW frames per second:  8.070374258318727\n"
     ]
    }
   ],
   "source": [
    "# kernel_name = 'laplacian'\n",
    "startSW=time.time()\n",
    "for i in range(numberOfIterations):\n",
    "    inframe = hdmi_in.readframe()\n",
    "    outframe = hdmi_out.newframe()\n",
    "    cv2.filter2D(inframe, -1, kernel.get(kernel_name), dst=outframe, borderType=cv2.BORDER_CONSTANT) #filter2D on ARM\n",
    "    hdmi_out.writeframe(outframe)\n",
    "stopSW=time.time()\n",
    "print(\"Start SW loop = \", (stopSW - startSW))\n",
    "print(\"SW frames per second: \", ((numberOfIterations) / (stopSW - startSW)))"
   ]
  },
  {
   "cell_type": "markdown",
   "metadata": {},
   "source": [
    "## Hardware"
   ]
  },
  {
   "cell_type": "code",
   "execution_count": null,
   "metadata": {},
   "outputs": [],
   "source": [
    "# kernel_name = 'laplacian'\n",
    "startPL=time.time()\n",
    "for i in range(numberOfIterations):\n",
    "    inframe = hdmi_in.readPYNQ-Skripsi/frame()\n",
    "    outframe = hdmi_out.newframe()\n",
    "    xv2.filter2D(inframe, -1, kernel.get(kernel_name), dst=outframe,borderType=cv2.BORDER_CONSTANT) #filter2D offloaded to PL, working on physically continuous numpy arrays\n",
    "    hdmi_out.writeframe(outframe)\n",
    "stopPL=time.time()\n",
    "print(\"Start HW loop = \", (stopPL - startPL))\n",
    "print(\"PL frames per second: \", ((numberOfIterations) / (stopPL - startPL)))"
   ]
  },
  {
   "cell_type": "code",
   "execution_count": null,
   "metadata": {},
   "outputs": [],
   "source": [
    "outframe"
   ]
  },
  {
   "cell_type": "code",
   "execution_count": null,
   "metadata": {
    "scrolled": true
   },
   "outputs": [],
   "source": [
    "hdmi_out.close()\n",
    "hdmi_in.close()"
   ]
  },
  {
   "cell_type": "code",
   "execution_count": null,
   "metadata": {},
   "outputs": [],
   "source": []
  }
 ],
 "metadata": {
  "kernelspec": {
   "display_name": "Python 3",
   "language": "python",
   "name": "python3"
  },
  "language_info": {
   "codemirror_mode": {
    "name": "ipython",
    "version": 3
   },
   "file_extension": ".py",
   "mimetype": "text/x-python",
   "name": "python",
   "nbconvert_exporter": "python",
   "pygments_lexer": "ipython3",
   "version": "3.6.5"
  }
 },
 "nbformat": 4,
 "nbformat_minor": 2
}
