{
 "cells": [
  {
   "cell_type": "code",
   "execution_count": null,
   "metadata": {
    "scrolled": false
   },
   "outputs": [],
   "source": [
    "import os\n",
    "os.getpid()"
   ]
  },
  {
   "cell_type": "code",
   "execution_count": null,
   "metadata": {
    "scrolled": false
   },
   "outputs": [],
   "source": [
    "# Load filter2D + dilate overlay\n",
    "from pynq import Overlay\n",
    "bareHDMI = Overlay(\"/usr/local/lib/python3.6/dist-packages/pynq_cv/overlays/xv2Filter2DDilate.bit\")\n",
    "bareHDMI.download()\n",
    "import pynq_cv.overlays.xv2Filter2DDilate as xv2\n",
    "\n",
    "# Load xlnk memory mangager\n",
    "from pynq import Xlnk\n",
    "Xlnk.set_allocator_library(\"/usr/local/lib/python3.6/dist-packages/pynq_cv/overlays/xv2Filter2DDilate.so\")\n",
    "mem_manager = Xlnk()\n",
    "\n",
    "hdmi_in = bareHDMI.video.hdmi_in\n",
    "hdmi_out = bareHDMI.video.hdmi_out"
   ]
  },
  {
   "cell_type": "code",
   "execution_count": null,
   "metadata": {
    "scrolled": false
   },
   "outputs": [],
   "source": [
    "from pynq.lib.video import *\n",
    "hdmi_in.configure(PIXEL_GRAY)\n",
    "hdmi_out.configure(hdmi_in.mode)\n",
    "\n",
    "hdmi_in.cacheable_frames = False\n",
    "hdmi_out.cacheable_frames = False\n",
    "\n",
    "hdmi_in.start()\n",
    "hdmi_out.start()"
   ]
  },
  {
   "cell_type": "code",
   "execution_count": null,
   "metadata": {
    "scrolled": false
   },
   "outputs": [],
   "source": [
    "mymode = hdmi_in.mode\n",
    "print(\"My mode: \"+str(mymode))\n",
    "\n",
    "height = hdmi_in.mode.height\n",
    "width = hdmi_in.mode.width\n",
    "bpp = hdmi_in.mode.bits_per_pixel"
   ]
  },
  {
   "cell_type": "code",
   "execution_count": null,
   "metadata": {
    "scrolled": false
   },
   "outputs": [],
   "source": [
    "hdmi_in.tie(hdmi_out)"
   ]
  },
  {
   "cell_type": "code",
   "execution_count": null,
   "metadata": {
    "scrolled": false
   },
   "outputs": [],
   "source": [
    "import numpy as np\n",
    "import cv2\n",
    "import time\n"
   ]
  },
  {
   "cell_type": "code",
   "execution_count": null,
   "metadata": {
    "scrolled": false
   },
   "outputs": [],
   "source": [
    "kernel = {\n",
    "        'average blur': np.array([\n",
    "            [1.0, 1.0, 1.0],\n",
    "            [1.0, 1.0, 1.0],\n",
    "            [1.0, 1.0, 1.0]],np.float32)/9,\n",
    "        'gaussian blur': np.array([\n",
    "            [1.0, 2.0, 1.0],\n",
    "            [2.0, 4.0, 2.0],\n",
    "            [1.0, 2.0, 1.0]],np.float32)/16,\n",
    "        'sobel ver': np.array([\n",
    "            [1.0,0.0,-1.0],\n",
    "            [2.0,0.0,-2.0],\n",
    "            [1.0,0.0,-1.0]],np.float32),\n",
    "        'sobel hor': np.array([\n",
    "            [1.0,2.0,1.0],\n",
    "            [0.0,0.0,0.0],\n",
    "            [-1.0,-2.0,-1.0]],np.float32),\n",
    "        'laplacian': np.array([\n",
    "            [0.0, 1.0, 0],\n",
    "            [1.0, -4, 1.0],\n",
    "            [0, 1.0, 0.0]],np.float32),\n",
    "        'sharpen': np.array([\n",
    "            [-1,-1, -1],\n",
    "            [-1, 9, -1],\n",
    "            [-1, -1, -1]],np.float32),\n",
    "}\n"
   ]
  },
  {
   "cell_type": "markdown",
   "metadata": {},
   "source": [
    "## Software (ARM Processor)"
   ]
  },
  {
   "cell_type": "code",
   "execution_count": null,
   "metadata": {
    "scrolled": false
   },
   "outputs": [],
   "source": [
    "kernel_name = 'sharpen'\n",
    "numberOfIterations=70\n",
    "\n",
    "startSW=time.time()\n",
    "for i in range(numberOfIterations):\n",
    "    inframe = hdmi_in.readframe()\n",
    "    outframe = hdmi_out.newframe()\n",
    "    cv2.filter2D(inframe, -1, kernel.get(kernel_name), dst=outframe, borderType=cv2.BORDER_CONSTANT) #filter2D on ARM\n",
    "    hdmi_out.writeframe(outframe)\n",
    "stopSW=time.time()\n",
    "print(\"Start SW loop = \", (stopSW - startSW))\n",
    "print(\"SW frames per second: \", ((numberOfIterations) / (stopSW - startSW)))"
   ]
  },
  {
   "cell_type": "code",
   "execution_count": null,
   "metadata": {
    "scrolled": true
   },
   "outputs": [],
   "source": [
    "hdmi_out.close()\n",
    "hdmi_in.close()"
   ]
  },
  {
   "cell_type": "code",
   "execution_count": null,
   "metadata": {
    "scrolled": false
   },
   "outputs": [],
   "source": []
  }
 ],
 "metadata": {
  "kernelspec": {
   "display_name": "Python 3",
   "language": "python",
   "name": "python3"
  },
  "language_info": {
   "codemirror_mode": {
    "name": "ipython",
    "version": 3
   },
   "file_extension": ".py",
   "mimetype": "text/x-python",
   "name": "python",
   "nbconvert_exporter": "python",
   "pygments_lexer": "ipython3",
   "version": "3.6.5"
  }
 },
 "nbformat": 4,
 "nbformat_minor": 2
}
