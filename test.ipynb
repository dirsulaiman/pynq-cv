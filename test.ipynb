{
 "cells": [
  {
   "cell_type": "code",
   "execution_count": 1,
   "metadata": {},
   "outputs": [
    {
     "name": "stderr",
     "output_type": "stream",
     "text": [
      "/usr/local/lib/python3.6/dist-packages/setuptools/distutils_patch.py:26: UserWarning: Distutils was imported before Setuptools. This usage is discouraged and may exhibit undesirable behaviors or errors. Please use Setuptools' objects directly or at least import Setuptools first.\n",
      "  \"Distutils was imported before Setuptools. This usage is discouraged \"\n"
     ]
    },
    {
     "data": {
      "application/javascript": [
       "\n",
       "try {\n",
       "require(['notebook/js/codecell'], function(codecell) {\n",
       "  codecell.CodeCell.options_default.highlight_modes[\n",
       "      'magic_text/x-csrc'] = {'reg':[/^%%microblaze/]};\n",
       "  Jupyter.notebook.events.one('kernel_ready.Kernel', function(){\n",
       "      Jupyter.notebook.get_cells().map(function(cell){\n",
       "          if (cell.cell_type == 'code'){ cell.auto_highlight(); } }) ;\n",
       "  });\n",
       "});\n",
       "} catch (e) {};\n"
      ]
     },
     "metadata": {},
     "output_type": "display_data"
    }
   ],
   "source": [
    "from pynq import Overlay\n",
    "bs = Overlay(\"/usr/local/lib/python3.6/dist-packages/pynq_cv/overlays/xv2Filter2DDilate.bit\")\n",
    "bs.download()"
   ]
  },
  {
   "cell_type": "code",
   "execution_count": 2,
   "metadata": {},
   "outputs": [],
   "source": [
    "from pynq import Xlnk\n",
    "Xlnk.set_allocator_library('/usr/local/lib/python3.6/dist-packages/pynq_cv/overlays/xv2Filter2DDilate.so')\n",
    "mem_manager = Xlnk()\n",
    "\n",
    "import pynq_cv.overlays.xv2Filter2DDilate as xv2\n",
    "import numpy as np\n",
    "import cv2\n",
    "import time"
   ]
  },
  {
   "cell_type": "code",
   "execution_count": 4,
   "metadata": {},
   "outputs": [
    {
     "name": "stdout",
     "output_type": "stream",
     "text": [
      "Size of imgY is  (497, 701)\n"
     ]
    }
   ],
   "source": [
    "img = cv2.imread('/home/xilinx/jupyter_notebooks/eeve.jpeg')\n",
    "imgY = cv2.cvtColor(img,cv2.COLOR_BGR2GRAY)\n",
    "\n",
    "print(\"Size of imgY is \",imgY.shape);\n",
    "height, width, channels = img.shape"
   ]
  },
  {
   "cell_type": "code",
   "execution_count": 11,
   "metadata": {},
   "outputs": [],
   "source": [
    "kernel = np.array([[1.0,2.0,1.0],[0.0,0.0,0.0],[-1.0,-2.0,-1.0]],np.float32)\n",
    "\n",
    "numberOfIterations=50\n",
    "\n",
    "dstSW = np.ones((height,width),np.uint8);\n",
    "\n",
    "xFimgY  = mem_manager.cma_array((height,width),np.uint8) #allocated physically contiguous numpy array \n",
    "xFimgY[:] = imgY[:] # copy source data\n",
    "\n",
    "xFdst  = mem_manager.cma_array((height,width),np.uint8) #allocated physically contiguous numpy array"
   ]
  },
  {
   "cell_type": "code",
   "execution_count": 12,
   "metadata": {},
   "outputs": [
    {
     "name": "stdout",
     "output_type": "stream",
     "text": [
      "Start SW loop =  1.5109682083129883\n"
     ]
    }
   ],
   "source": [
    "startSW=time.time()\n",
    "for i in range(numberOfIterations):\n",
    "    cv2.filter2D(imgY,-1,kernel,dst=dstSW,borderType=cv2.BORDER_CONSTANT) #filter2D on ARM\n",
    "stopSW=time.time()\n",
    "print(\"Start SW loop = \", (stopSW - startSW))"
   ]
  },
  {
   "cell_type": "code",
   "execution_count": 13,
   "metadata": {},
   "outputs": [
    {
     "name": "stdout",
     "output_type": "stream",
     "text": [
      "Start HW loop =  0.18459439277648926\n"
     ]
    }
   ],
   "source": [
    "startPL=time.time()\n",
    "for i in range(numberOfIterations):\n",
    "    xv2.filter2D(xFimgY,-1,kernel,dst=xFdst,borderType=cv2.BORDER_CONSTANT) #filter2D offloaded to PL, working on physically continuous numpy arrays\n",
    "stopPL=time.time()\n",
    "print(\"Start HW loop = \", (stopPL - startPL))"
   ]
  },
  {
   "cell_type": "code",
   "execution_count": 14,
   "metadata": {},
   "outputs": [
    {
     "name": "stdout",
     "output_type": "stream",
     "text": [
      "SW frames per second:  33.0913646792248\n",
      "PL frames per second:  270.8641321545506\n"
     ]
    }
   ],
   "source": [
    "print(\"SW frames per second: \", ((numberOfIterations) / (stopSW - startSW)))\n",
    "print(\"PL frames per second: \", ((numberOfIterations) / (stopPL - startPL)))"
   ]
  },
  {
   "cell_type": "code",
   "execution_count": null,
   "metadata": {
    "collapsed": true
   },
   "outputs": [],
   "source": []
  }
 ],
 "metadata": {
  "kernelspec": {
   "display_name": "Python 3",
   "language": "python",
   "name": "python3"
  },
  "language_info": {
   "codemirror_mode": {
    "name": "ipython",
    "version": 3
   },
   "file_extension": ".py",
   "mimetype": "text/x-python",
   "name": "python",
   "nbconvert_exporter": "python",
   "pygments_lexer": "ipython3",
   "version": "3.6.5"
  }
 },
 "nbformat": 4,
 "nbformat_minor": 2
}
